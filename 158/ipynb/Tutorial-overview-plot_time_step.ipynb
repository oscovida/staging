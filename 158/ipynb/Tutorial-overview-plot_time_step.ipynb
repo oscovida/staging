{
 "cells": [
  {
   "cell_type": "code",
   "execution_count": null,
   "outputs": [],
   "source": [],
   "metadata": {
    "collapsed": false,
    "pycharm": {
     "name": "#%%\n"
    }
   }
  },
  {
   "cell_type": "markdown",
   "source": [
    "We also meed to import the plotting framework:"
   ],
   "metadata": {
    "collapsed": false
   }
  },
  {
   "cell_type": "code",
   "execution_count": null,
   "outputs": [],
   "source": [
    "import matplotlib.pyplot as plt\n",
    "from matplotlib.ticker import ScalarFormatter, FuncFormatter, FixedLocator\n",
    "from matplotlib.dates import DateFormatter, MONDAY, WeekdayLocator"
   ],
   "metadata": {
    "collapsed": false,
    "pycharm": {
     "name": "#%%\n"
    }
   }
  },
  {
   "cell_type": "markdown",
   "source": [
    "Also we will need an empty Matplotlib graph object to pass onto the plotting functions."
   ],
   "metadata": {
    "collapsed": false
   }
  },
  {
   "cell_type": "code",
   "execution_count": null,
   "outputs": [],
   "source": [
    "fig, ax1 = plt.subplots();"
   ],
   "metadata": {
    "collapsed": false,
    "pycharm": {
     "name": "#%%\n"
    }
   }
  },
  {
   "cell_type": "markdown",
   "source": [
    "Now let's add some data to our empty graph\n",
    "### Total numbers\n",
    "\n",
    "THe first graph shows the cumulative numbers for COVID cases and deaths."
   ],
   "metadata": {
    "collapsed": false
   }
  },
  {
   "cell_type": "code",
   "execution_count": null,
   "outputs": [],
   "source": [
    "ov.plot_time_step(ax=ax1, series=cases)   # add cases to the graph\n",
    "ov.plot_time_step(ax=ax1, series=deaths)  # add deaths to the graph\n",
    "ax1.set_title(\"Total numbers\")\n",
    "ax1.legend()"
   ],
   "metadata": {
    "collapsed": false,
    "pycharm": {
     "name": "#%%\n"
    }
   }
  },
  {
   "cell_type": "code",
   "execution_count": null,
   "outputs": [],
   "source": [
    "fig"
   ],
   "metadata": {
    "collapsed": false,
    "pycharm": {
     "name": "#%%\n"
    }
   }
  },
  {
   "cell_type": "markdown",
   "source": [
    "### Daily change\n",
    "\n",
    "The next two graphs represent daily change in cases and deaths.\n",
    "Let's investigate the last several weeks of some particular region:"
   ],
   "metadata": {
    "collapsed": false
   }
  },
  {
   "cell_type": "code",
   "execution_count": null,
   "outputs": [],
   "source": [
    "fig2, ax2 = plt.subplots();    # an empty graph again\n",
    "country = \"US\"\n",
    "region = \"California\"\n",
    "weeks = 8\n",
    "\n",
    "cases, deaths = ov.get_country_data(country, region)\n",
    "cases = cases[- weeks * 7:]   # cut off unwanted data\n",
    "deaths = deaths[- weeks * 7:] # cut off unwanted data\n",
    "\n",
    "ov.plot_daily_change(ax=ax2, series=cases, color=\"C2\"); # where does the color come from?"
   ],
   "metadata": {
    "collapsed": false,
    "pycharm": {
     "name": "#%%\n"
    }
   }
  },
  {
   "cell_type": "markdown",
   "source": [
    "And if it we wave the population data for this region (see [here](link-here))\n",
    "then we can plot a normalised graph with the data per 100K capita.\n",
    "    For doing that we pass regional identifiers to the plotting function."
   ],
   "metadata": {
    "collapsed": false
   }
  },
  {
   "cell_type": "code",
   "execution_count": null,
   "outputs": [],
   "source": [
    "fig2, ax2 = plt.subplots();    # an empty graph again\n",
    "country = \"Germany\"\n",
    "region = \"Bayern\"\n",
    "weeks = 8\n",
    "\n",
    "cases, deaths = ov.get_country_data(country, region)\n",
    "cases = cases[- weeks * 7:]   # cut off unwanted data\n",
    "deaths = deaths[- weeks * 7:] # cut off unwanted data\n",
    "\n",
    "habitants = ov.population(country, region)\n",
    "print(f\"The population of {country}, {region} is {habitants} people\")\n",
    "\n",
    "ov.plot_daily_change(ax=ax2, series=cases, color=\"C2\", country=country, region=region);"
   ],
   "metadata": {
    "collapsed": false,
    "pycharm": {
     "name": "#%%\n"
    }
   }
  },
  {
   "cell_type": "markdown",
   "source": [
    "And the same for deaths:"
   ],
   "metadata": {
    "collapsed": false
   }
  },
  {
   "cell_type": "code",
   "execution_count": null,
   "outputs": [],
   "source": [
    "fig3, ax3 = plt.subplots();    # an empty graph again\n",
    "\n",
    "ov.plot_daily_change(ax=ax3, series=deaths, color=\"C2\");"
   ],
   "metadata": {
    "collapsed": false,
    "pycharm": {
     "name": "#%%\n"
    }
   }
  },
  {
   "cell_type": "code",
   "execution_count": null,
   "outputs": [],
   "source": [],
   "metadata": {
    "collapsed": false,
    "pycharm": {
     "name": "#%%\n"
    }
   }
  },
  {
   "cell_type": "markdown",
   "source": [
    "And if it we wave the population data for this region (see [here](link-here))\n",
    "then we can plot a normalised graph with the data per 100K capita.\n",
    "    For doing that we pass regional identifiers to the plotting function."
   ],
   "metadata": {
    "collapsed": false
   }
  },
  {
   "cell_type": "code",
   "execution_count": null,
   "outputs": [],
   "source": [
    "fig2, ax2 = plt.subplots();    # an empty graph again\n",
    "country = \"Germany\"\n",
    "region = \"Bayern\"\n",
    "weeks = 8\n",
    "\n",
    "cases, deaths = ov.get_country_data(country, region)\n",
    "cases = cases[- weeks * 7:]   # cut off unwanted data\n",
    "deaths = deaths[- weeks * 7:] # cut off unwanted data\n",
    "\n",
    "habitants = ov.population(country, region)\n",
    "print(f\"The population of {country}, {region} is {habitants} people\")\n",
    "\n",
    "ov.plot_daily_change(ax=ax2, series=cases, color=\"C2\", country=country, region=region);"
   ],
   "metadata": {
    "collapsed": false,
    "pycharm": {
     "name": "#%%\n"
    }
   }
  },
  {
   "cell_type": "markdown",
   "source": [
    "And the same for deaths:"
   ],
   "metadata": {
    "collapsed": false
   }
  },
  {
   "cell_type": "code",
   "execution_count": null,
   "outputs": [],
   "source": [
    "fig3, ax3 = plt.subplots();    # an empty graph again\n",
    "\n",
    "ov.plot_daily_change(ax=ax3, series=deaths, color=\"C2\");"
   ],
   "metadata": {
    "collapsed": false,
    "pycharm": {
     "name": "#%%\n"
    }
   }
  },
  {
   "cell_type": "code",
   "execution_count": null,
   "metadata": {},
   "outputs": [],
   "source": []
  },
  {
   "cell_type": "code",
   "execution_count": null,
   "metadata": {},
   "outputs": [],
   "source": []
  }
 ],
 "metadata": {
  "kernelspec": {
   "display_name": "Python 3",
   "language": "python",
   "name": "python3"
  },
  "language_info": {
   "codemirror_mode": {
    "name": "ipython",
    "version": 3
   },
   "file_extension": ".py",
   "mimetype": "text/x-python",
   "name": "python",
   "nbconvert_exporter": "python",
   "pygments_lexer": "ipython3",
   "version": "3.8.5"
  }
 },
 "nbformat": 4,
 "nbformat_minor": 4
}