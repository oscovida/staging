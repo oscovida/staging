{
 "cells": [
  {
   "cell_type": "markdown",
   "metadata": {},
   "source": [
    "# Index of tutorials"
   ]
  },
  {
   "cell_type": "markdown",
   "metadata": {},
   "source": [
    "- [Tutorial index (this page)](0-tutorial-index.ipynb)\n",
    "- [OSCOVIDA Installation](tutorial-installation.ipynb)\n",
    "- [Accessing COVID19 data for different countries and regions](tutorial-accessing-cases-and-deaths.ipynb)"
   ]
  },
  {
   "cell_type": "markdown",
   "metadata": {},
   "source": [
    "To start execution of these tutorials in the cloud, you can [fire up your cloud environment here](https://mybinder.org/v2/gh/oscovida/binder/master?filepath=ipynb/0-tutorial-index.ipynb)"
   ]
  }
 ],
 "metadata": {
  "kernelspec": {
   "display_name": "Python 3",
   "language": "python",
   "name": "python3"
  },
  "language_info": {
   "codemirror_mode": {
    "name": "ipython",
    "version": 3
   },
   "file_extension": ".py",
   "mimetype": "text/x-python",
   "name": "python",
   "nbconvert_exporter": "python",
   "pygments_lexer": "ipython3",
   "version": "3.8.3"
  }
 },
 "nbformat": 4,
 "nbformat_minor": 4
}
