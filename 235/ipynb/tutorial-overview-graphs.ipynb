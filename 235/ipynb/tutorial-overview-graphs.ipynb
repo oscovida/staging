{
 "cells": [
  {
   "cell_type": "code",
   "execution_count": 1,
   "metadata": {},
   "outputs": [
    {
     "name": "stdout",
     "output_type": "stream",
     "text": [
      "[Errno 2] No such file or directory: '../../../..;'\n",
      "/home/kir/github/oscovida/tools/pelican/content/ipynb\n"
     ]
    },
    {
     "ename": "ModuleNotFoundError",
     "evalue": "No module named 'oscovida'",
     "output_type": "error",
     "traceback": [
      "\u001B[0;31m---------------------------------------------------------------------------\u001B[0m",
      "\u001B[0;31mModuleNotFoundError\u001B[0m                       Traceback (most recent call last)",
      "\u001B[0;32m<ipython-input-1-9d45c73a0427>\u001B[0m in \u001B[0;36m<module>\u001B[0;34m\u001B[0m\n\u001B[1;32m      1\u001B[0m \u001B[0mget_ipython\u001B[0m\u001B[0;34m(\u001B[0m\u001B[0;34m)\u001B[0m\u001B[0;34m.\u001B[0m\u001B[0mrun_line_magic\u001B[0m\u001B[0;34m(\u001B[0m\u001B[0;34m'cd'\u001B[0m\u001B[0;34m,\u001B[0m \u001B[0;34m'../../../..;'\u001B[0m\u001B[0;34m)\u001B[0m\u001B[0;34m\u001B[0m\u001B[0;34m\u001B[0m\u001B[0m\n\u001B[1;32m      2\u001B[0m \u001B[0mget_ipython\u001B[0m\u001B[0;34m(\u001B[0m\u001B[0;34m)\u001B[0m\u001B[0;34m.\u001B[0m\u001B[0mrun_line_magic\u001B[0m\u001B[0;34m(\u001B[0m\u001B[0;34m'config'\u001B[0m\u001B[0;34m,\u001B[0m \u001B[0;34m\"InlineBackend.figure_formats = ['svg']\"\u001B[0m\u001B[0;34m)\u001B[0m\u001B[0;34m\u001B[0m\u001B[0;34m\u001B[0m\u001B[0m\n\u001B[0;32m----> 3\u001B[0;31m \u001B[0;32mimport\u001B[0m \u001B[0moscovida\u001B[0m \u001B[0;32mas\u001B[0m \u001B[0mov\u001B[0m\u001B[0;34m\u001B[0m\u001B[0;34m\u001B[0m\u001B[0m\n\u001B[0m\u001B[1;32m      4\u001B[0m \u001B[0;34m\u001B[0m\u001B[0m\n\u001B[1;32m      5\u001B[0m \u001B[0mov\u001B[0m\u001B[0;34m.\u001B[0m\u001B[0mdisplay_binder_link\u001B[0m\u001B[0;34m(\u001B[0m\u001B[0;34m\"tutorial-overview-graphs.ipynb\"\u001B[0m\u001B[0;34m)\u001B[0m\u001B[0;34m\u001B[0m\u001B[0;34m\u001B[0m\u001B[0m\n",
      "\u001B[0;31mModuleNotFoundError\u001B[0m: No module named 'oscovida'"
     ]
    }
   ],
   "source": [
    "%config InlineBackend.figure_formats = ['svg']\n",
    "import oscovida as ov\n",
    "\n",
    "ov.display_binder_link(\"tutorial-overview-graphs.ipynb\")"
   ]
  },
  {
   "cell_type": "markdown",
   "metadata": {},
   "source": [
    "## Overview function explained\n",
    "\n",
    "The most important function of `oscovida` package is `overview`. It takes the following parameters:\n",
    "1. `country` — a country to analyse (mandatory, `str`);\n",
    "2. `region` — a region of the country (optional, `str`);\n",
    "3. `subregion` — a subregion of the country (optional, `str`);\n",
    "4. `savefig` — whether to save a sigure (optional, `bool`, default is `False`);\n",
    "5. `dates` — a range of dates in a format \"2020-05-15:2020-10-20\"\n",
    "6. `weeks` — how many last weeks to show (optional, `int`, default is zero, which means \"all\"),\n",
    "7. `data` — the external data source, a pair of `pd.Series`, see below.\n",
    "\n",
    "The function returns a triple:\n",
    "(`pyplot` graph, a `pandas` series for _cases_, a `pandas` series for _deaths_).\n",
    "\n",
    "This function provides six graphs:"
   ]
  },
  {
   "cell_type": "code",
   "execution_count": null,
   "metadata": {},
   "outputs": [],
   "source": [
    "ov.overview('Russia');"
   ]
  },
  {
   "cell_type": "markdown",
   "metadata": {},
   "source": [
    "Let's see how exactly we obtain all these graphs.\n",
    "\n",
    "Under the hood we \n",
    "* retrieve the data with `get_country_data()` function (see the [tutorial](tutorial-accessing-cases-and-deaths.nbdata.html))\n",
    "* then we optionally narrow the time range using either `weeks=N` for the last `N` weeks or\n",
    "  `dates=\"2020-05-01:2020-10-01\"` for the specific range of dates. Note that one cannot use\n",
    "  both `dates` and `weeks` together.\n",
    "* finally, we feed this data for *cases* and *deaths* to a set of plotting functions:\n",
    " - `plot_incidence_rate` for 7-day incidence rate per 100 thousand inhabitants (plot 1)\n",
    " - `plot_daily_change` for daily changes (plots 2 and 3, see the [tutorial](tutorial-overview-plot_daily_change.nbdata.html))\n",
    " - `plot_reproduction_number` for `R`-value and the growth factor (plots 4 and 5, see the [tutorial](tutorial-overview-plot_reproduction_number.nbdata.html))\n",
    " - `plot_doubling_time` for the doubling times (plot 6, see the [tutorial](tutorial-overview-plot_doubling_time.nbdata.html)).\n",
    "\n",
    "That's exactly how we fetch the data using `weeks` inside the `overview` function:"
   ]
  },
  {
   "cell_type": "code",
   "execution_count": null,
   "metadata": {},
   "outputs": [],
   "source": [
    "country = \"Iran\"\n",
    "weeks = 30\n",
    "cases, deaths = ov.get_country_data(country)\n",
    "cases = cases[- weeks * 7:]   # cut off unwanted data\n",
    "deaths = deaths[- weeks * 7:] # cut off unwanted data"
   ]
  },
  {
   "cell_type": "markdown",
   "metadata": {},
   "source": [
    "What we have in `cases` and `deaths` are Pandas time series: it is a sort of a two-row array with dates in one row and COVID cases / deaths in the other:"
   ]
  },
  {
   "cell_type": "code",
   "execution_count": null,
   "metadata": {},
   "outputs": [],
   "source": [
    "cases"
   ]
  },
  {
   "cell_type": "markdown",
   "metadata": {},
   "source": [
    "And here is the example with `dates`:"
   ]
  },
  {
   "cell_type": "code",
   "execution_count": null,
   "metadata": {
    "pycharm": {
     "name": "#%%\n"
    }
   },
   "outputs": [],
   "source": [
    "country = \"Germany\"\n",
    "region=\"Hamburg\"\n",
    "dates = \"2020-09-15:2020-10-25\"\n",
    "cases, deaths = ov.get_country_data(country, region)\n",
    "\n",
    "date_start, date_end = dates.split(':')\n",
    "cases = cases[date_start:date_end]\n",
    "deaths = deaths[date_start:date_end]\n",
    "\n",
    "ov.overview(country=country, region=region, dates=dates);"
   ]
  },
  {
   "cell_type": "markdown",
   "metadata": {},
   "source": [
    "### External data source\n",
    "\n",
    "One may pass an external data object to the `overview` for visualisation.\n",
    "The data object should contain a pair of Pandas series (one for cases, and one for deaths).\n",
    "Each series must have an index of type `pd.Timestamp`. See the example with an artificial data:"
   ]
  },
  {
   "cell_type": "code",
   "execution_count": null,
   "metadata": {},
   "outputs": [],
   "source": [
    "import numpy as np\n",
    "import pandas as pd\n",
    "\n",
    "days = 100\n",
    "country = \"Narnia\"\n",
    "dates = pd.date_range(\"2020-03-01\", periods=days, freq='D')\n",
    "data1 = np.exp(np.linspace(1,15,days)).astype(int)  # don't have to be integers\n",
    "data2 = np.exp(np.linspace(1,5,days)).astype(int)   # don't have to be integers\n",
    "\n",
    "c = pd.Series(data1, index=pd.DatetimeIndex(dates))\n",
    "d = pd.Series(data2, index=pd.DatetimeIndex(dates))\n",
    "\n",
    "c.name = f\"{country} cases\"\n",
    "d.name = f\"{country} deaths\"\n",
    "\n",
    "ov.overview(country=country, data=(c,d));"
   ]
  },
  {
   "cell_type": "markdown",
   "metadata": {},
   "source": [
    "# Other tutorials\n",
    "\n",
    "You can find [more tutorials here](tag-tutorial.html)."
   ]
  }
 ],
 "metadata": {
  "kernelspec": {
   "display_name": "Python 3",
   "language": "python",
   "name": "python3"
  },
  "language_info": {
   "codemirror_mode": {
    "name": "ipython",
    "version": 3
   },
   "file_extension": ".py",
   "mimetype": "text/x-python",
   "name": "python",
   "nbconvert_exporter": "python",
   "pygments_lexer": "ipython3",
   "version": "3.8.5"
  }
 },
 "nbformat": 4,
 "nbformat_minor": 4
}